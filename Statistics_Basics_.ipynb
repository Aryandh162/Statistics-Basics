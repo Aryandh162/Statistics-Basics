{
  "nbformat": 4,
  "nbformat_minor": 0,
  "metadata": {
    "colab": {
      "provenance": []
    },
    "kernelspec": {
      "name": "python3",
      "display_name": "Python 3"
    },
    "language_info": {
      "name": "python"
    }
  },
  "cells": [
    {
      "cell_type": "markdown",
      "source": [
        "#Statistics Basics Assignment"
      ],
      "metadata": {
        "id": "wCuAbYp2jdCA"
      }
    },
    {
      "cell_type": "markdown",
      "source": [
        "1. What is statistics, and why is it important?\n"
      ],
      "metadata": {
        "id": "SxLPHGczje8S"
      }
    },
    {
      "cell_type": "markdown",
      "source": [
        "=> Statistics deals with the collection, analysis, interpretation, presentation, and organization of data. It plays a crucial role in various fields of data analyst."
      ],
      "metadata": {
        "id": "qzxRlFVHk7A3"
      }
    },
    {
      "cell_type": "markdown",
      "source": [
        "2. What are the two main types of statistics?\n"
      ],
      "metadata": {
        "id": "qh5fWsFHkRJy"
      }
    },
    {
      "cell_type": "markdown",
      "source": [
        "=> The Two Main Types of Statistics are:-\n",
        "* Descriptive Statistics\n",
        "* Inferential Statistics"
      ],
      "metadata": {
        "id": "7fD9Sj7rk7yj"
      }
    },
    {
      "cell_type": "markdown",
      "source": [
        "3. What are descriptive statistics?\n"
      ],
      "metadata": {
        "id": "XT7iaErDkTA4"
      }
    },
    {
      "cell_type": "markdown",
      "source": [
        "=> Descriptive statistics is all about summarizing and describing the main features of a dataset. It focuses on organizing, presenting, and analyzing data to gain insights into its characteristics."
      ],
      "metadata": {
        "id": "R2KlONowk8O3"
      }
    },
    {
      "cell_type": "markdown",
      "source": [
        "4. What is inferential statistics?\n"
      ],
      "metadata": {
        "id": "C8MBcQIPkU75"
      }
    },
    {
      "cell_type": "markdown",
      "source": [
        "=> Inferential statistics goes beyond describing data and focuses on making predictions and inferences about a larger population based on a sample of data."
      ],
      "metadata": {
        "id": "tZmqfezpk8qk"
      }
    },
    {
      "cell_type": "markdown",
      "source": [
        "5. What is sampling in statistics?\n"
      ],
      "metadata": {
        "id": "QzEf0eZ0kWmD"
      }
    },
    {
      "cell_type": "markdown",
      "source": [
        "=> In statistics, sampling is the process of selecting a subset (a sample) of individuals or observations from a larger group (the population) to estimate characteristics of the whole population."
      ],
      "metadata": {
        "id": "T0wcP9l0k9ri"
      }
    },
    {
      "cell_type": "markdown",
      "source": [
        "6. What are the different types of sampling methods?\n"
      ],
      "metadata": {
        "id": "frZ-ul4ukYWl"
      }
    },
    {
      "cell_type": "markdown",
      "source": [
        "=> Sampling methods can be broadly classified into two main categories:\n",
        "\n",
        "* Probability Sampling: Every member of the population has a known chance of being selected. This allows for generalizations to be made about the population with a calculable margin of error.\n",
        "\n",
        "* Non-probability Sampling: The selection of individuals is not random, and some members of the population have a higher chance of being selected than others."
      ],
      "metadata": {
        "id": "nFfu-Ursk-JO"
      }
    },
    {
      "cell_type": "markdown",
      "source": [
        "7. What is the difference between random and non-random sampling?\n"
      ],
      "metadata": {
        "id": "yPBOmM-ikaKv"
      }
    },
    {
      "cell_type": "markdown",
      "source": [
        "=> Difference between random and non-random sampling are:-\n",
        "* Random Sampling (Probability Sampling)\n",
        "\n",
        "-Every member of the population has a known and equal chance of being selected.\n",
        "\n",
        "-Selection is based on chance, using methods like random number generators or lottery systems.\n",
        "\n",
        "-Minimizes bias and allows for generalization of findings to the larger population.\n",
        "\n",
        "-Enables calculation of sampling error, which quantifies the uncertainty associated with the sample estimate.\n",
        "\n",
        "* Non-Random Sampling (Non-Probability Sampling)\n",
        "\n",
        "-Not every member of the population has an equal chance of being selected.\n",
        "\n",
        "-Selection is based on factors other than chance, such as convenience, judgment, or quotas.\n",
        "\n",
        "-May introduce bias and limits generalizability to the broader population.\n",
        "\n",
        "-Sampling error cannot be calculated reliably."
      ],
      "metadata": {
        "id": "_J5jKb3zk-hu"
      }
    },
    {
      "cell_type": "markdown",
      "source": [
        "8. Define and give examples of qualitative and quantitative data.\n"
      ],
      "metadata": {
        "id": "_T45LFCIkcIt"
      }
    },
    {
      "cell_type": "markdown",
      "source": [
        "=> Quantitative data is numerical, countable, and measurable, providing information on how many, how much, or how often. Qualitative data, however, is descriptive, interpretative, and language-based, helping us understand the reasons, processes, or contexts behind certain behaviors."
      ],
      "metadata": {
        "id": "mbCeTlpZk_JK"
      }
    },
    {
      "cell_type": "markdown",
      "source": [
        "9. What are the different types of data in statistics?\n"
      ],
      "metadata": {
        "id": "cHBS1Hklkd0H"
      }
    },
    {
      "cell_type": "markdown",
      "source": [
        "=> Types of Data in Statistics:\n",
        "\n",
        "* Qualitative Data (Categorical Data)\n",
        "* Quantitative Data (Numerical Data)"
      ],
      "metadata": {
        "id": "OQGtdMF5k_nv"
      }
    },
    {
      "cell_type": "markdown",
      "source": [
        "10. Explain nominal, ordinal, interval, and ratio levels of measurement.\n"
      ],
      "metadata": {
        "id": "UYhe3eKJkf2w"
      }
    },
    {
      "cell_type": "markdown",
      "source": [
        "=>\n",
        "* Nominal: The nominal level of measurement is the most basic and categorizes data into distinct groups or categories.\n",
        "* Ordinal: The ordinal level of measurement categorizes data into distinct groups with a meaningful order or ranking.\n",
        "* Interval: The interval level of measurement has all the properties of ordinal data, but in addition, the differences between categories are equal and meaningful.\n",
        "* Ratio: The ratio level of measurement has all the properties of interval data, but in addition, there is a true zero point, which indicates the absence of the measured attribute.\n"
      ],
      "metadata": {
        "id": "j9XiF-qWlAPg"
      }
    },
    {
      "cell_type": "markdown",
      "source": [
        "11. What is the measure of central tendency?\n"
      ],
      "metadata": {
        "id": "qnTt7NIakhs3"
      }
    },
    {
      "cell_type": "markdown",
      "source": [
        "=> A measure of central tendency is a single value that attempts to describe the center or typical value of a dataset. It provides a summary of the data by identifying a central position around which the data points tend to cluster."
      ],
      "metadata": {
        "id": "06hxJQWQlAqc"
      }
    },
    {
      "cell_type": "markdown",
      "source": [
        "12. Define mean, median, and mode.\n"
      ],
      "metadata": {
        "id": "_D2VGNtqkj9E"
      }
    },
    {
      "cell_type": "markdown",
      "source": [
        "=>  \n",
        "#Mean\n",
        "The mean is the average of a dataset. It's calculated by summing all the values in the dataset and then dividing by the total number of values.\n",
        "#Median\n",
        "The median is the middle value of a dataset when it's ordered from least to greatest. If the dataset has an even number of values, the median is the average of the two middle values.\n",
        "#Mode\n",
        "The mode is the value that appears most frequently in a dataset. A dataset can have one mode, multiple modes, or no mode at all.\n"
      ],
      "metadata": {
        "id": "PPcM8GchlBIW"
      }
    },
    {
      "cell_type": "markdown",
      "source": [
        "13. What is the significance of the measure of central tendency?\n"
      ],
      "metadata": {
        "id": "O7XgGf8Lkln1"
      }
    },
    {
      "cell_type": "markdown",
      "source": [
        "=> Significance of the Measure of Central Tendency\n",
        "The measure of central tendency plays a crucial role in statistical analysis and data interpretation.\n",
        "\n",
        "* Data Summarization\n",
        "* Data Comparison\n",
        "* Inference about Population\n",
        "* Understanding Data Distribution\n",
        "* Decision Making\n",
        "* Identifying Outliers"
      ],
      "metadata": {
        "id": "wR3g75s4lBml"
      }
    },
    {
      "cell_type": "markdown",
      "source": [
        "14. What is variance, and how is it calculated?\n"
      ],
      "metadata": {
        "id": "3SD8kjFlkncH"
      }
    },
    {
      "cell_type": "markdown",
      "source": [
        "=>variance is a measure of how spread out the data points are in a dataset. It quantifies the dispersion or variability of the data around the mean (average). A higher variance indicates that the data points are more spread out, while a lower variance suggests that they are clustered closer to the mean.\n",
        "* Formula - σ² = Σ (Xi - μ)² / N\n"
      ],
      "metadata": {
        "id": "vkYbanwllCve"
      }
    },
    {
      "cell_type": "markdown",
      "source": [
        "15. What is skewness in a dataset?\n"
      ],
      "metadata": {
        "id": "aIe1-Fu5kpHp"
      }
    },
    {
      "cell_type": "markdown",
      "source": [
        "=> Skewness is a statistical measure that describes the asymmetry of the probability distribution of a real-valued random variable about its mean. It indicates whether the data points are skewed to the left (negative skew) or the right (positive skew) relative to the mean."
      ],
      "metadata": {
        "id": "gE8zkZjIlDUa"
      }
    },
    {
      "cell_type": "markdown",
      "source": [
        "16. What is standard deviation, and why is it important?\n"
      ],
      "metadata": {
        "id": "L-reeUrDkqzs"
      }
    },
    {
      "cell_type": "markdown",
      "source": [
        "=> The standard deviation (SD) is a single number that summarizes the variability in a dataset. It represents the typical distance between each data point and the mean. Smaller values indicate that the data points cluster closer to the mean—the values in the dataset are relatively consistent."
      ],
      "metadata": {
        "id": "jRf-GstdlD1f"
      }
    },
    {
      "cell_type": "markdown",
      "source": [
        "17. Define and explain the term range in statistics.\n"
      ],
      "metadata": {
        "id": "YTN0_7wRksUs"
      }
    },
    {
      "cell_type": "markdown",
      "source": [
        "=> In statistics, a range refers to the difference between the highest and lowest values in a dataset. It provides a simple measure of the spread or dispersion of the data. Calculating the range involves subtracting the minimum value from the maximum value."
      ],
      "metadata": {
        "id": "c4FtOCSplGBs"
      }
    },
    {
      "cell_type": "markdown",
      "source": [
        "18. What is the difference between variance and standard deviation?\n"
      ],
      "metadata": {
        "id": "JzpB86DXkt1m"
      }
    },
    {
      "cell_type": "markdown",
      "source": [
        "=> Variance is the squared deviation of items/values in a statistical series from its arithmetic mean. This numerical value quantifies the average magnitude to which extent the data set is dispersed around itself. It is simply the square of the standard deviation and is denoted as σ2.\n",
        "\n",
        "Standard deviation is an important method of measuring statistical deviation. It is the measure of the extent to which the numbers in a statistical series are spread from their arithmetic mean. It is always a non-negative value, and its unit is the same as that of the items in the given series. The same unit among both makes comparison and interpretation easier and more detailed."
      ],
      "metadata": {
        "id": "nZQXQ5eYlGh-"
      }
    },
    {
      "cell_type": "markdown",
      "source": [
        "19. What does it mean if a dataset is positively or negatively skewed?\n"
      ],
      "metadata": {
        "id": "cGtKcEB4kvbK"
      }
    },
    {
      "cell_type": "markdown",
      "source": [
        "=> Positive Skew: Indicates that there are a few extremely high values in the dataset that are pulling the mean towards the right. Examples include income distributions, housing prices, and the number of likes on social media posts.\n",
        "\n",
        "Negative Skew: Indicates that there are a few extremely low values in the dataset that are pulling the mean towards the left. Examples include exam scores (where most students score high), retirement age, and the number of accidents."
      ],
      "metadata": {
        "id": "kXZ_lny0lG2a"
      }
    },
    {
      "cell_type": "markdown",
      "source": [
        "20. Define and explain kurtosis.\n"
      ],
      "metadata": {
        "id": "R3yjKXpgkxCk"
      }
    },
    {
      "cell_type": "markdown",
      "source": [
        "=>  kurtosis is a measure that describes the tailedness of a probability distribution. It essentially quantifies how much of the data is concentrated in the tails of the distribution compared to the center. In simpler terms, it tells us how \"peaked\" or \"flat\" the distribution is relative to a normal distribution."
      ],
      "metadata": {
        "id": "yQaWK8sKlHO5"
      }
    },
    {
      "cell_type": "markdown",
      "source": [
        "21. What is the purpose of covariance?\n"
      ],
      "metadata": {
        "id": "3DlBSzroky76"
      }
    },
    {
      "cell_type": "markdown",
      "source": [
        "=> covariance is a measure that indicates the direction of the linear relationship between two variables. It tells us whether the variables tend to move together (positive covariance), move in opposite directions (negative covariance), or have no linear relationship (covariance close to zero)."
      ],
      "metadata": {
        "id": "v4saBDeilHoW"
      }
    },
    {
      "cell_type": "markdown",
      "source": [
        "22. What does correlation measure in statistics?\n"
      ],
      "metadata": {
        "id": "BCUvVV0Sk020"
      }
    },
    {
      "cell_type": "markdown",
      "source": [
        "=> correlation measures the strength and direction of the linear relationship between two variables. It quantifies how closely two variables move together – whether they tend to increase or decrease in a synchronized manner."
      ],
      "metadata": {
        "id": "AjDehWw4lICa"
      }
    },
    {
      "cell_type": "markdown",
      "source": [
        "23. What is the difference between covariance and correlation?\n"
      ],
      "metadata": {
        "id": "dQ9CKE1Mk2kT"
      }
    },
    {
      "cell_type": "markdown",
      "source": [
        "=> The difference between covariance and correlationare:-\n",
        "#Covariance\n",
        "\n",
        "* Definition: Covariance measures the direction of the linear relationship between two variables. It indicates whether the variables tend to move together (positive covariance), move in opposite directions (negative covariance), or have no linear relationship (covariance close to zero).\n",
        "* Scale: Covariance is not standardized, meaning its value depends on the units of measurement of the variables. This makes it difficult to compare covariances between datasets with different scales.\n",
        "* Interpretability: While the sign of covariance indicates the direction of the relationship, the magnitude of covariance is not easily interpretable. A large covariance could simply be due to the variables having large scales.\n",
        "#Correlation\n",
        "\n",
        "* Definition: Correlation measures both the strength and direction of the linear relationship between two variables. It quantifies how closely two variables move together, ranging from -1 to +1.\n",
        "* Scale: Correlation is standardized, meaning its value is always between -1 and +1, regardless of the units of measurement of the variables. This allows for easy comparison of correlations between different datasets.\n",
        "* Interpretability: Correlation provides a clear indication of the strength and direction of the relationship. Values closer to +1 or -1 indicate stronger correlations, while values closer to 0 indicate weaker correlations."
      ],
      "metadata": {
        "id": "hScAsOQRlIcV"
      }
    },
    {
      "cell_type": "markdown",
      "source": [
        "24. What are some real-world applications of statistics?"
      ],
      "metadata": {
        "id": "50r04YiJk3_0"
      }
    },
    {
      "cell_type": "markdown",
      "source": [
        "=>  Some real-world applications of statistics are:-\n",
        "1. Business and Finance\n",
        "2. Healthcare and Medicine\n",
        "3. Social Sciences\n",
        "4. Education\n",
        "5. Sports\n",
        "6. Government and Public Policy\n",
        "7. Everyday Life"
      ],
      "metadata": {
        "id": "CGcAKvRLlJfc"
      }
    },
    {
      "cell_type": "markdown",
      "source": [
        "# Practical Questions"
      ],
      "metadata": {
        "id": "Cb38OtKZlKJZ"
      }
    },
    {
      "cell_type": "markdown",
      "source": [
        " 1. How do you calculate the mean, median, and mode of a dataset?\n"
      ],
      "metadata": {
        "id": "0BY2VcpBlQNW"
      }
    },
    {
      "cell_type": "code",
      "source": [
        "#code for the above ques.\n",
        "import numpy as np\n",
        "\n",
        "data = [1, 2, 3, 4, 5]\n",
        "mean = np.mean(data)\n",
        "print(f\"Mean: {mean}\")\n",
        "median = np.median(data)\n",
        "print(f\"Median: {median}\")\n",
        "\n",
        "from scipy import stats\n",
        "\n",
        "data = [1, 2, 3, 4, 5, 2]\n",
        "mode = stats.mode(data)[0][0]\n",
        "print(f\"Mode: {mode}\")"
      ],
      "metadata": {
        "id": "gDVHTJp9m1gw"
      },
      "execution_count": null,
      "outputs": []
    },
    {
      "cell_type": "markdown",
      "source": [
        " 2. Write a Python program to compute the variance and standard deviation of a dataset.\n"
      ],
      "metadata": {
        "id": "Eb_1SI7ClsxL"
      }
    },
    {
      "cell_type": "code",
      "source": [
        "#code for the above ques.\n",
        "import numpy as np\n",
        "\n",
        "data = [1, 2, 3, 4, 5]\n",
        "variance = np.var(data)\n",
        "print(f\"Variance: {variance}\")\n",
        "std_dev = np.std(data)\n",
        "print(f\"Standard Deviation: {std_dev}\")\n"
      ],
      "metadata": {
        "id": "WOa-uoPCm6EH"
      },
      "execution_count": 1,
      "outputs": []
    },
    {
      "cell_type": "markdown",
      "source": [
        " 3. Create a dataset and classify it into nominal, ordinal, interval, and ratio types.\n"
      ],
      "metadata": {
        "id": "JbOoyY9kluo3"
      }
    },
    {
      "cell_type": "code",
      "source": [
        "#code for the above ques.\n",
        "import numpy as np\n",
        "\n",
        "data = [1, 2, 3, 4, 5]\n",
        "mean = np.mean(data)\n",
        "print(f\"Mean: {mean}\")\n",
        "median = np.median(data)\n",
        "print(f\"Median: {median}\")\n",
        "\n",
        "from scipy import stats\n",
        "\n",
        "data = [1, 2, 3, 4, 5, 2]\n",
        "mode = stats.mode(data)[0][0]\n",
        "print(f\"Mode: {mode}\")"
      ],
      "metadata": {
        "id": "pGNyV5fJm6y-"
      },
      "execution_count": null,
      "outputs": []
    },
    {
      "cell_type": "markdown",
      "source": [
        " 4. Implement sampling techniques like random sampling and stratified sampling.\n"
      ],
      "metadata": {
        "id": "4aQ2yQt9lwSV"
      }
    },
    {
      "cell_type": "code",
      "source": [
        "#code for the above ques.\n",
        "import random\n",
        "\n",
        "data = [1, 2, 3, 4, 5, 6, 7, 8, 9, 10]  # Your dataset\n",
        "sample_size = 5  # Desired sample size\n",
        "\n",
        "random_sample = random.sample(data, sample_size)\n",
        "print(f\"Random Sample: {random_sample}\")\n",
        "\n",
        "import pandas as pd\n",
        "import random\n",
        "\n",
        "data = pd.DataFrame({'gender': ['male', 'female', 'male', 'female', 'male', 'female', 'male', 'female', 'male', 'female'],\n",
        "                   'age': [25, 30, 22, 28, 35, 27, 29, 32, 31, 26]})  # Your dataset\n",
        "strata = data['gender'].unique()  # Define strata based on gender\n",
        "sample_size_per_stratum = 2  # Desired sample size per stratum\n",
        "\n",
        "stratified_sample = []\n",
        "for stratum in strata:\n",
        "    stratum_data = data[data['gender'] == stratum]\n",
        "    stratum_sample = random.sample(list(stratum_data.index), sample_size_per_stratum)\n",
        "    stratified_sample.extend(stratum_sample)\n",
        "\n",
        "final_sample = data.iloc[stratified_sample]\n",
        "print(f\"Stratified Sample:\\n{final_sample}\")\n"
      ],
      "metadata": {
        "id": "y_9JEb1gm7Tu"
      },
      "execution_count": null,
      "outputs": []
    },
    {
      "cell_type": "markdown",
      "source": [
        " 5. Write a Python function to calculate the range of a dataset.\n"
      ],
      "metadata": {
        "id": "RYZrHZMHlx0k"
      }
    },
    {
      "cell_type": "code",
      "source": [
        "#code for the above ques.\n",
        "def calculate_range(data):\n",
        "    minimum = min(data)\n",
        "    maximum = max(data)\n",
        "    range_value = maximum - minimum\n",
        "    return range_value\n",
        "\n",
        "data = [1, 2, 3, 4, 5]\n",
        "range_result = calculate_range(data)\n",
        "print(f\"Range: {range_result}\")\n",
        "\n",
        "\n"
      ],
      "metadata": {
        "id": "ffSapIxLm7xB"
      },
      "execution_count": null,
      "outputs": []
    },
    {
      "cell_type": "markdown",
      "source": [
        " 6. Create a dataset and plot its histogram to visualize skewness.\n",
        ""
      ],
      "metadata": {
        "id": "-QmLjBCXlzqi"
      }
    },
    {
      "cell_type": "code",
      "source": [
        "#code for the above ques.\n",
        "import matplotlib.pyplot as plt\n",
        "\n",
        "data = [1, 2, 3, 4, 5]\n",
        "plt.hist(data, bins=5, edgecolor='black')\n",
        "plt.xlabel('Values')\n",
        "plt.ylabel('Frequency')\n",
        "plt.title('Histogram of Data')\n",
        "plt.show()\n",
        "\n"
      ],
      "metadata": {
        "id": "yv8ivdutm8OY"
      },
      "execution_count": null,
      "outputs": []
    },
    {
      "cell_type": "markdown",
      "source": [
        "7. Calculate skewness and kurtosis of a dataset using Python libraries.\n"
      ],
      "metadata": {
        "id": "1Fb7cZv-l1r3"
      }
    },
    {
      "cell_type": "code",
      "source": [
        "#code for the above ques.\n",
        "import scipy.stats as stats\n",
        "\n",
        "data = [1, 2, 3, 4, 5]\n",
        "skewness = stats.skew(data)\n",
        "kurtosis = stats.kurtosis(data)\n",
        "print(f\"Skewness: {skewness}\")\n",
        "print(f\"Kurtosis: {kurtosis}\")"
      ],
      "metadata": {
        "id": "EBMVTY3Km8y7"
      },
      "execution_count": null,
      "outputs": []
    },
    {
      "cell_type": "markdown",
      "source": [
        " 8. Generate a dataset and demonstrate positive and negative skewness.\n"
      ],
      "metadata": {
        "id": "aUAe-Coal3Tp"
      }
    },
    {
      "cell_type": "code",
      "source": [
        "#code for the above ques.\n",
        "\n",
        "import matplotlib.pyplot as plt\n",
        "\n",
        "data = [1, 2, 3, 4, 5]\n",
        "plt.hist(data, bins=5, edgecolor='black')\n",
        "plt.xlabel('Values')\n",
        "plt.ylabel('Frequency')\n",
        "plt.title('Histogram of Data')\n",
        "plt.show()"
      ],
      "metadata": {
        "id": "DRLgan_5m9Vj"
      },
      "execution_count": null,
      "outputs": []
    },
    {
      "cell_type": "markdown",
      "source": [
        " 9. Write a Python script to calculate covariance between two datasets.\n"
      ],
      "metadata": {
        "id": "BwHdoNUll5K_"
      }
    },
    {
      "cell_type": "code",
      "source": [
        "#code for the above ques.\n",
        "import numpy as np\n",
        "\n",
        "data1 = [1, 2, 3, 4, 5]\n",
        "data2 = [5, 4, 3, 2, 1]\n",
        "covariance = np.cov(data1, data2)[0, 1]\n",
        "print(f\"Covariance: {covariance}\")"
      ],
      "metadata": {
        "id": "8v9zp_vIm91I"
      },
      "execution_count": null,
      "outputs": []
    },
    {
      "cell_type": "markdown",
      "source": [
        " 10. Write a Python script to calculate the correlation coefficient between two datasets.\n"
      ],
      "metadata": {
        "id": "hMsjceP_l6qD"
      }
    },
    {
      "cell_type": "code",
      "source": [
        "#code for the above ques.\n",
        "import numpy as np\n",
        "\n",
        "data1 = [1, 2, 3, 4, 5]\n",
        "data2 = [5, 4, 3, 2, 1]\n",
        "correlation_coefficient = np.corrcoef(data1, data2)[0, 1]\n",
        "print(f\"Correlation Coefficient: {correlation_coefficient}\")"
      ],
      "metadata": {
        "id": "IObMluUhm-dZ"
      },
      "execution_count": null,
      "outputs": []
    },
    {
      "cell_type": "markdown",
      "source": [
        " 11. Create a scatter plot to visualize the relationship between two variables.\n"
      ],
      "metadata": {
        "id": "WU1saBn7l8XY"
      }
    },
    {
      "cell_type": "code",
      "source": [
        "#code for the above ques.\n",
        "import matplotlib.pyplot as plt\n",
        "\n",
        "data1 = [1, 2, 3, 4, 5]\n",
        "data2 = [5, 4, 3, 2, 1]\n",
        "plt.scatter(data1, data2)\n",
        "plt.xlabel('X-axis')\n",
        "plt.ylabel('Y-axis')\n",
        "plt.title('Scatter Plot')\n",
        "plt.show()"
      ],
      "metadata": {
        "id": "nJANPhptm_OR"
      },
      "execution_count": null,
      "outputs": []
    },
    {
      "cell_type": "markdown",
      "source": [
        " 12. Implement and compare simple random sampling and systematic sampling.\n"
      ],
      "metadata": {
        "id": "0w3mHKIFl-FL"
      }
    },
    {
      "cell_type": "code",
      "source": [
        "#code for the above ques.\n",
        "import random\n",
        "\n",
        "population = list(range(1, 101))\n",
        "sample_size = 10\n",
        "\n",
        "simple_random_sample = random.sample(population, sample_size)\n",
        "\n",
        "print(\"Simple Random Sample:\", simple_random_sample)"
      ],
      "metadata": {
        "id": "fwJOm2_om_yv"
      },
      "execution_count": null,
      "outputs": []
    },
    {
      "cell_type": "markdown",
      "source": [
        " 13. Calculate the mean, median, and mode of grouped data.\n"
      ],
      "metadata": {
        "id": "QIyUc38vl_zp"
      }
    },
    {
      "cell_type": "code",
      "source": [
        "#code for the above ques.\n",
        "\n",
        "import statistics\n",
        "\n",
        "data = [1, 2, 3, 4, 5]\n",
        "mean = sum(data) / len(data)\n",
        "print(f\"Mean: {mean}\")\n",
        "median = statistics.median(data)\n",
        "print(f\"Median: {median}\")\n",
        "mode = statistics.mode(data)\n",
        "print(f\"Mode: {mode}\")\n"
      ],
      "metadata": {
        "id": "C7-FtPmcnAc4"
      },
      "execution_count": null,
      "outputs": []
    },
    {
      "cell_type": "markdown",
      "source": [
        " 14. Simulate data using Python and calculate its central tendency and dispersion."
      ],
      "metadata": {
        "id": "x4sdCAxjmBbw"
      }
    },
    {
      "cell_type": "code",
      "source": [
        "#code for the above ques.\n",
        "\n",
        "import numpy as np\n",
        "\n",
        "data = np.random.rand(100)  # Simulate data\n",
        "mean = np.mean(data)\n",
        "median = np.median(data)\n",
        "std_dev = np.std(data)\n",
        "print(f\"Mean: {mean}\")\n",
        "print(f\"Median: {median}\")\n",
        "print(f\"Standard Deviation: {std_dev}\")"
      ],
      "metadata": {
        "id": "VKLwDZjwnBG3"
      },
      "execution_count": null,
      "outputs": []
    },
    {
      "cell_type": "markdown",
      "source": [
        "15. Use NumPy or pandas to summarize a dataset’s descriptive statistics.\n",
        ""
      ],
      "metadata": {
        "id": "1MqOgH-7mDDQ"
      }
    },
    {
      "cell_type": "code",
      "source": [
        "#code for the above ques.\n",
        "\n",
        "import numpy as np\n",
        "\n",
        "data = np.random.rand(100)  # Simulate data\n",
        "mean = np.mean(data)\n",
        "median = np.median(data)\n",
        "std_dev = np.std(data)\n",
        "print(f\"Mean: {mean}\")\n",
        "print(f\"Median: {median}\")\n",
        "print(f\"Standard Deviation: {std_dev}\")"
      ],
      "metadata": {
        "id": "nsz9qgqanBn5"
      },
      "execution_count": null,
      "outputs": []
    },
    {
      "cell_type": "markdown",
      "source": [
        "16. Plot a boxplot to understand the spread and identify outliers.\n"
      ],
      "metadata": {
        "id": "osoufzHCmZM0"
      }
    },
    {
      "cell_type": "code",
      "source": [
        "#code for the above ques.\n",
        "\n",
        "import matplotlib.pyplot as plt\n",
        "\n",
        "data = [1, 2, 3, 4, 5]\n",
        "plt.boxplot(data)\n",
        "plt.ylabel('Values')\n",
        "plt.title('Boxplot')\n",
        "plt.show()"
      ],
      "metadata": {
        "id": "SiBy1YKsnCKA"
      },
      "execution_count": null,
      "outputs": []
    },
    {
      "cell_type": "markdown",
      "source": [
        "17. Calculate the interquartile range (IQR) of a dataset.\n"
      ],
      "metadata": {
        "id": "wrsidyUhmcPQ"
      }
    },
    {
      "cell_type": "code",
      "source": [
        "#code for the above ques.\n",
        "import numpy as np\n",
        "\n",
        "data = [1, 2, 3, 4, 5, 6, 7, 8, 9, 10]\n",
        "\n",
        "# Calculate quartiles\n",
        "q1 = np.percentile(data, 25)\n",
        "q3 = np.percentile(data, 75)\n",
        "\n",
        "# Calculate IQR\n",
        "iqr = q3 - q1\n",
        "\n",
        "print(f\"Interquartile Range (IQR): {iqr}\")"
      ],
      "metadata": {
        "id": "0RuK_GltnCrS"
      },
      "execution_count": null,
      "outputs": []
    },
    {
      "cell_type": "markdown",
      "source": [
        "18. Implement Z-score normalization and explain its significance.\n"
      ],
      "metadata": {
        "id": "Yw211AJfmeIs"
      }
    },
    {
      "cell_type": "code",
      "source": [
        "#code for the above ques.\n",
        "import numpy as np\n",
        "\n",
        "def zscore_normalize(data):\n",
        "    mean = np.mean(data)\n",
        "    std_dev = np.std(data)\n",
        "    normalized_data = (data - mean) / std_dev\n",
        "    return normalized_data\n",
        "\n",
        "# Example usage\n",
        "data = [1, 2, 3, 4, 5]\n",
        "normalized_data = zscore_normalize(data)\n",
        "print(f\"Normalized Data: {normalized_data}\")\n"
      ],
      "metadata": {
        "id": "Teo4PeH8nDMm"
      },
      "execution_count": null,
      "outputs": []
    },
    {
      "cell_type": "markdown",
      "source": [
        "19. Compare two datasets using their standard deviations.\n"
      ],
      "metadata": {
        "id": "azAHdsoXmiNe"
      }
    },
    {
      "cell_type": "code",
      "source": [
        "#code for the above ques.\n",
        "import numpy as np\n",
        "\n",
        "dataset1 = [1, 2, 3, 4, 5]\n",
        "dataset2 = [2, 4, 6, 8, 10]\n",
        "\n",
        "# Calculate standard deviations\n",
        "std_dev1 = np.std(dataset1)\n",
        "std_dev2 = np.std(dataset2)\n",
        "\n",
        "# Compare standard deviations\n",
        "print(f\"Standard Deviation of Dataset 1: {std_dev1}\")\n",
        "print(f\"Standard Deviation of Dataset 2: {std_dev2}\")\n",
        "\n",
        "if std_dev1 > std_dev2:\n",
        "    print(\"Dataset 1 has more variability/spread than Dataset 2.\")\n",
        "elif std_dev2 > std_dev1:\n",
        "    print(\"Dataset 2 has more variability/spread than Dataset 1.\")\n",
        "else:\n",
        "    print(\"Both datasets have similar variability/spread.\")"
      ],
      "metadata": {
        "id": "A0MVcbVunDri"
      },
      "execution_count": null,
      "outputs": []
    },
    {
      "cell_type": "markdown",
      "source": [
        "20. Write a Python program to visualize covariance using a heatmap.\n"
      ],
      "metadata": {
        "id": "pES1XZe_mldY"
      }
    },
    {
      "cell_type": "code",
      "source": [
        "#code for the above ques.\n",
        "import numpy as np\n",
        "import seaborn as sns\n",
        "import matplotlib.pyplot as plt\n",
        "\n",
        "# Sample data (replace with your actual data)\n",
        "data = np.random.rand(10, 5)\n",
        "\n",
        "# Calculate covariance matrix\n",
        "covariance_matrix = np.cov(data, rowvar=False)\n",
        "\n",
        "# Create heatmap\n",
        "sns.heatmap(covariance_matrix, annot=True, cmap='coolwarm', fmt=\".2f\")\n",
        "plt.title('Covariance Heatmap')\n",
        "plt.show()"
      ],
      "metadata": {
        "id": "BhxzJA41nEGu"
      },
      "execution_count": null,
      "outputs": []
    },
    {
      "cell_type": "markdown",
      "source": [
        "21. Use seaborn to create a correlation matrix for a dataset.\n"
      ],
      "metadata": {
        "id": "152EpYlImm8l"
      }
    },
    {
      "cell_type": "code",
      "source": [
        "#code for the above ques.\n",
        "import seaborn as sns\n",
        "import matplotlib.pyplot as plt\n",
        "import pandas as pd\n",
        "\n",
        "data = pd.read_csv('your_dataset.csv')\n",
        "\n",
        "correlation_matrix = data.corr()\n",
        "\n",
        "plt.figure(figsize=(10, 8))\n",
        "sns.heatmap(correlation_matrix, annot=True, cmap='coolwarm', fmt=\".2f\")\n",
        "plt.title('Correlation Matrix of Dataset')\n",
        "plt.show()"
      ],
      "metadata": {
        "id": "894s0_utnEit"
      },
      "execution_count": null,
      "outputs": []
    },
    {
      "cell_type": "markdown",
      "source": [
        "22. Generate a dataset and implement both variance and standard deviation computations.\n"
      ],
      "metadata": {
        "id": "4OkNzonOmo1w"
      }
    },
    {
      "cell_type": "code",
      "source": [
        "#code for the above ques.\n",
        "import numpy as np\n",
        "\n",
        "data = [1, 2, 3, 4, 5]\n",
        "variance = np.var(data)\n",
        "print(f\"Variance: {variance}\")\n",
        "std_dev = np.std(data)\n",
        "print(f\"Standard Deviation: {std_dev}\")"
      ],
      "metadata": {
        "id": "1zEyjtQanE-1"
      },
      "execution_count": null,
      "outputs": []
    },
    {
      "cell_type": "markdown",
      "source": [
        "23. Visualize skewness and kurtosis using Python libraries like matplotlib or seaborn.\n"
      ],
      "metadata": {
        "id": "UAROUDvTmrWr"
      }
    },
    {
      "cell_type": "code",
      "source": [
        "#code for the above ques.\n",
        "import numpy as np\n",
        "import matplotlib.pyplot as plt\n",
        "import seaborn as sns\n",
        "\n",
        "data = [1, 2, 3, 4, 5]\n",
        "skewness = np.mean(data)\n",
        "kurtosis = np.std(data)\n",
        "\n",
        "plt.hist(data, bins=5, edgecolor='black')\n",
        "plt.xlabel('Values')\n",
        "plt.ylabel('Frequency')\n",
        "plt.title('Histogram of Data')\n",
        "plt.show()\n",
        "\n",
        "sns.boxplot(data=data)\n",
        "plt.ylabel('Values')\n",
        "plt.title('Boxplot')\n",
        "plt.show()"
      ],
      "metadata": {
        "id": "R4W55MignFcM"
      },
      "execution_count": 8,
      "outputs": []
    },
    {
      "cell_type": "markdown",
      "source": [
        "24. Implement the Pearson and Spearman correlation coefficients for a dataset."
      ],
      "metadata": {
        "id": "3rDbqcdYmuYq"
      }
    },
    {
      "cell_type": "code",
      "source": [
        "#code for the above ques.\n",
        "import numpy as np\n",
        "from scipy.stats import pearsonr, spearmanr\n",
        "x = [1, 2, 3, 4, 5]\n",
        "y = [5, 4, 3, 2, 1]\n",
        "\n",
        "pearson_corr, _ = pearsonr(x, y)\n",
        "print(f\"Pearson Correlation Coefficient: {pearson_corr}\")\n",
        "\n",
        "spearman_corr, _ = spearmanr(x, y)\n",
        "print(f\"Spearman Correlation Coefficient: {spearman_corr}\")"
      ],
      "metadata": {
        "id": "4zo1SqECnF12"
      },
      "execution_count": null,
      "outputs": []
    }
  ]
}